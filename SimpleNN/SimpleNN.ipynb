{
 "cells": [
  {
   "cell_type": "markdown",
   "metadata": {
    "id": "0Ar18u4rRo-5"
   },
   "source": [
    "## Setup Libraries"
   ]
  },
  {
   "cell_type": "code",
   "execution_count": 8,
   "metadata": {
    "executionInfo": {
     "elapsed": 6,
     "status": "ok",
     "timestamp": 1743690104301,
     "user": {
      "displayName": "Tuấn Anh Lê Văn",
      "userId": "12728001783566952855"
     },
     "user_tz": -420
    },
    "id": "nqkK5gSRKw1q"
   },
   "outputs": [],
   "source": [
    "import numpy as np"
   ]
  },
  {
   "cell_type": "markdown",
   "metadata": {
    "id": "SCaA9f5_RsVw"
   },
   "source": [
    "## For better fit"
   ]
  },
  {
   "cell_type": "code",
   "execution_count": 9,
   "metadata": {
    "executionInfo": {
     "elapsed": 11,
     "status": "ok",
     "timestamp": 1743690104314,
     "user": {
      "displayName": "Tuấn Anh Lê Văn",
      "userId": "12728001783566952855"
     },
     "user_tz": -420
    },
    "id": "q0h71DIJOghQ"
   },
   "outputs": [],
   "source": [
    "def add_ones(matrix):\n",
    "    ones = np.ones((matrix.shape[0], 1))\n",
    "    return np.hstack((ones, matrix))"
   ]
  },
  {
   "cell_type": "markdown",
   "metadata": {
    "id": "9S-pSAZeRryI"
   },
   "source": [
    "## Some simple activation function"
   ]
  },
  {
   "cell_type": "code",
   "execution_count": 10,
   "metadata": {
    "executionInfo": {
     "elapsed": 2,
     "status": "ok",
     "timestamp": 1743690104335,
     "user": {
      "displayName": "Tuấn Anh Lê Văn",
      "userId": "12728001783566952855"
     },
     "user_tz": -420
    },
    "id": "r8LliM8RPoMi"
   },
   "outputs": [],
   "source": [
    "class activation_func():\n",
    "    def __init__(self):   # Storing the value of itself\n",
    "        self.value = None\n",
    "    def __call__(self):   # Forward pass\n",
    "        pass\n",
    "    def grad(self):   # Gradient calculation\n",
    "        pass\n",
    "\n",
    "class linear(activation_func):\n",
    "    def __call__(self, input):\n",
    "        self.value = input\n",
    "        return input\n",
    "    def grad(self):\n",
    "        return np.ones(self.value.shape)\n",
    "\n",
    "class relu(activation_func):\n",
    "    def __call__(self, input):\n",
    "        self.value = np.maximum(input, 0)\n",
    "        return self.value\n",
    "    def grad(self):\n",
    "        return (self.value > 0).astype(float)\n",
    "\n",
    "class sigmoid(activation_func):\n",
    "    def __call__(self, input):\n",
    "        self.value = 1 / (1 + np.exp(-input))\n",
    "        return self.value\n",
    "    def grad(self):\n",
    "        return self.value * (1 - self.value)\n",
    "\n",
    "class tanh(activation_func):\n",
    "    def __call__(self, input):\n",
    "        self.value = (np.exp(input) - np.exp(-input)) / (np.exp(input) + np.exp(-input))\n",
    "        return self.value\n",
    "    def grad(self):\n",
    "        return 1 - self.value**2"
   ]
  },
  {
   "cell_type": "markdown",
   "metadata": {
    "id": "fHtRqG7C4peV"
   },
   "source": [
    "## Loss function and Loss gradient"
   ]
  },
  {
   "cell_type": "code",
   "execution_count": 11,
   "metadata": {
    "executionInfo": {
     "elapsed": 15,
     "status": "ok",
     "timestamp": 1743690104349,
     "user": {
      "displayName": "Tuấn Anh Lê Văn",
      "userId": "12728001783566952855"
     },
     "user_tz": -420
    },
    "id": "LUhiIdfo4rLD"
   },
   "outputs": [],
   "source": [
    "def MSE(y_true, y_pred):\n",
    "    n = len(y_true)\n",
    "    return .5/n * np.sum((y_true - y_pred)**2)\n",
    "\n",
    "def grad_MSE(y_true, y_pred):\n",
    "    return y_pred - y_true"
   ]
  },
  {
   "cell_type": "markdown",
   "metadata": {
    "id": "HyyyVuhC4rer"
   },
   "source": [
    "## Optimizer"
   ]
  },
  {
   "cell_type": "code",
   "execution_count": 12,
   "metadata": {
    "executionInfo": {
     "elapsed": 1,
     "status": "ok",
     "timestamp": 1743690104367,
     "user": {
      "displayName": "Tuấn Anh Lê Văn",
      "userId": "12728001783566952855"
     },
     "user_tz": -420
    },
    "id": "HmbAd-FZ4su-"
   },
   "outputs": [],
   "source": [
    "def gradient_descent(y_true, X, weights, learning_rate=0.01, iterations=1000):\n",
    "    for iter in range(iterations):\n",
    "        y_pred = np.dot(X, weights)\n",
    "        grad = np.dot(X.T, grad_MSE(y_true, y_pred)) / len(y_true)\n",
    "        weights = weights - learning_rate * grad\n",
    "    return weights"
   ]
  },
  {
   "cell_type": "markdown",
   "metadata": {
    "id": "cu3nlYhLRzDo"
   },
   "source": [
    "## Dense layer"
   ]
  },
  {
   "cell_type": "code",
   "execution_count": 13,
   "metadata": {
    "executionInfo": {
     "elapsed": 12,
     "status": "ok",
     "timestamp": 1743690452438,
     "user": {
      "displayName": "Tuấn Anh Lê Văn",
      "userId": "12728001783566952855"
     },
     "user_tz": -420
    },
    "id": "cCL1P6aXKzqP"
   },
   "outputs": [],
   "source": [
    "class Dense():\n",
    "    def __init__(self, num_nodes, activation=None, learning_rate=0.01):\n",
    "        self.num_nodes = num_nodes  # This number also indicates the output_size of the current layer\n",
    "        self.activation = activation or linear()\n",
    "        self.weights = None   # Weights will be inititialize during first forward pass (call)\n",
    "        self.learning_rate = learning_rate\n",
    "        self.z = None   # Value before activation\n",
    "        self.a = None   # Output of layer (value after activation)\n",
    "        self.inputs = None\n",
    "\n",
    "    def __call__(self, inputs):\n",
    "        if self.weights is None:  # Init weights if not yet\n",
    "            input_size = inputs.shape[1]\n",
    "            self.weights = np.random.rand(input_size, self.num_nodes)\n",
    "\n",
    "        self.inputs = inputs  # For backprop\n",
    "        self.z = np.dot(inputs, self.weights)   # Forward pass\n",
    "        self.a = self.activation(self.z)        # Activate\n",
    "        return self.a\n",
    "\n",
    "    def back_prop(self, da):\n",
    "        m = self.inputs.shape[0]  # Number of samples\n",
    "        dZ = da * self.activation.grad()  # Gradient of activation (ReLU's grad or other)\n",
    "        dW = np.dot(self.inputs.T, dZ) / m  # Gradient for weights\n",
    "        dA_prev = np.dot(dZ, self.weights.T)  # Passing to the next layer\n",
    "        return dW, dA_prev\n",
    "\n",
    "    def optimize_weights(self, dW):\n",
    "        self.weights = self.weights - self.learning_rate * dW"
   ]
  },
  {
   "cell_type": "markdown",
   "metadata": {
    "id": "mfC3blSHBs5N"
   },
   "source": [
    "## Sequential Model"
   ]
  },
  {
   "cell_type": "code",
   "execution_count": 14,
   "metadata": {
    "executionInfo": {
     "elapsed": 7,
     "status": "ok",
     "timestamp": 1743690454499,
     "user": {
      "displayName": "Tuấn Anh Lê Văn",
      "userId": "12728001783566952855"
     },
     "user_tz": -420
    },
    "id": "GQzp8yXgL_D2"
   },
   "outputs": [],
   "source": [
    "class Sequential_model():\n",
    "    def __init__(self, layers=None):\n",
    "        self.layers = layers if layers is not None else []\n",
    "        self.optimizer = None\n",
    "        self.loss = None\n",
    "\n",
    "    def add(self, layer):\n",
    "        self.layers.append(layer)\n",
    "        return\n",
    "\n",
    "    def forward_pass(self, inputs):\n",
    "        outputs = inputs\n",
    "        for layer in self.layers:\n",
    "            outputs = layer(outputs)\n",
    "        return outputs\n",
    "\n",
    "    def backward_pass(self, loss_grad):\n",
    "        dA_prev = loss_grad\n",
    "        for layer in self.layers[::-1]:\n",
    "            dW, dA_prev = layer.back_prop(dA_prev)\n",
    "            layer.optimize_weights(dW)\n",
    "\n",
    "    def fit(self, X_train, y_train, epochs=5):\n",
    "        history = {'loss':[]}\n",
    "        inputs = add_ones(X_train)\n",
    "\n",
    "        for epoch in range(epochs):\n",
    "            outputs = self.forward_pass(inputs)\n",
    "\n",
    "            loss = MSE(y_train, outputs)\n",
    "            loss_grad = grad_MSE(y_train, outputs)\n",
    "            history['loss'].append(loss)\n",
    "            if ((epoch + 1) % (10 ** (int(np.log10(epochs) - 1)))) == 0:\n",
    "                print(f\"Epoch: {epoch + 1} - Loss: {loss}\")\n",
    "            self.backward_pass(loss_grad)\n",
    "        return history\n",
    "\n",
    "    def predict(self, X_test):\n",
    "        X_test = add_ones(X_test)\n",
    "        return self.forward_pass(X_test)"
   ]
  },
  {
   "cell_type": "markdown",
   "metadata": {
    "id": "jL9MQk4nzLLG"
   },
   "source": [
    "## Test the model with simple regression task"
   ]
  },
  {
   "cell_type": "code",
   "execution_count": 15,
   "metadata": {
    "executionInfo": {
     "elapsed": 11,
     "status": "ok",
     "timestamp": 1743690493184,
     "user": {
      "displayName": "Tuấn Anh Lê Văn",
      "userId": "12728001783566952855"
     },
     "user_tz": -420
    },
    "id": "h0YXMOiu2u7I"
   },
   "outputs": [],
   "source": [
    "np.random.seed(42)\n",
    "X = np.linspace(-10, 10, 1000).reshape(-1, 1)\n",
    "y = 2 * X + 1 # Ground truth: y = 2x + 1\n",
    "y = y + 0.01 * np.random.randn(*y.shape)   # Add extra noises"
   ]
  },
  {
   "cell_type": "code",
   "execution_count": 16,
   "metadata": {
    "executionInfo": {
     "elapsed": 3,
     "status": "ok",
     "timestamp": 1743690493673,
     "user": {
      "displayName": "Tuấn Anh Lê Văn",
      "userId": "12728001783566952855"
     },
     "user_tz": -420
    },
    "id": "6P2vtv3IzOew"
   },
   "outputs": [],
   "source": [
    "model = Sequential_model([\n",
    "    Dense(10),\n",
    "    Dense(1)\n",
    "])"
   ]
  },
  {
   "cell_type": "code",
   "execution_count": 17,
   "metadata": {
    "colab": {
     "base_uri": "https://localhost:8080/"
    },
    "collapsed": true,
    "executionInfo": {
     "elapsed": 122,
     "status": "ok",
     "timestamp": 1743690494250,
     "user": {
      "displayName": "Tuấn Anh Lê Văn",
      "userId": "12728001783566952855"
     },
     "user_tz": -420
    },
    "id": "6I-HXmnFzgzZ",
    "outputId": "e14a7dca-b11e-49e9-bed8-f80730d29ead"
   },
   "outputs": [
    {
     "name": "stdout",
     "output_type": "stream",
     "text": [
      "Epoch: 100 - Loss: 8.379246534170667e-05\n",
      "Epoch: 200 - Loss: 4.784615649233523e-05\n",
      "Epoch: 300 - Loss: 4.783494837482222e-05\n",
      "Epoch: 400 - Loss: 4.783494487927935e-05\n",
      "Epoch: 500 - Loss: 4.783494487818901e-05\n",
      "Epoch: 600 - Loss: 4.783494487818835e-05\n",
      "Epoch: 700 - Loss: 4.7834944878188187e-05\n",
      "Epoch: 800 - Loss: 4.7834944878188824e-05\n",
      "Epoch: 900 - Loss: 4.7834944878188444e-05\n",
      "Epoch: 1000 - Loss: 4.7834944878188234e-05\n"
     ]
    }
   ],
   "source": [
    "history = model.fit(X, y, epochs=1000)"
   ]
  },
  {
   "cell_type": "code",
   "execution_count": 18,
   "metadata": {
    "colab": {
     "base_uri": "https://localhost:8080/"
    },
    "executionInfo": {
     "elapsed": 12,
     "status": "ok",
     "timestamp": 1743690501039,
     "user": {
      "displayName": "Tuấn Anh Lê Văn",
      "userId": "12728001783566952855"
     },
     "user_tz": -420
    },
    "id": "IvulU90R9WcG",
    "outputId": "20fdcc2a-da1a-4bfe-a955-ed10c5e1af38"
   },
   "outputs": [
    {
     "data": {
      "text/plain": [
       "array([[21.00079424]])"
      ]
     },
     "execution_count": 18,
     "metadata": {},
     "output_type": "execute_result"
    }
   ],
   "source": [
    "model.predict(np.array([[10]]))"
   ]
  },
  {
   "cell_type": "code",
   "execution_count": null,
   "metadata": {
    "executionInfo": {
     "elapsed": 2,
     "status": "ok",
     "timestamp": 1743690104595,
     "user": {
      "displayName": "Tuấn Anh Lê Văn",
      "userId": "12728001783566952855"
     },
     "user_tz": -420
    },
    "id": "fESqE7Tt7vpK"
   },
   "outputs": [],
   "source": []
  }
 ],
 "metadata": {
  "colab": {
   "authorship_tag": "ABX9TyPjl7BMCE6cSfMST6uQmpwQ",
   "provenance": []
  },
  "kernelspec": {
   "display_name": "Python 3",
   "name": "python3"
  },
  "language_info": {
   "codemirror_mode": {
    "name": "ipython",
    "version": 3
   },
   "file_extension": ".py",
   "mimetype": "text/x-python",
   "name": "python",
   "nbconvert_exporter": "python",
   "pygments_lexer": "ipython3",
   "version": "3.12.6"
  }
 },
 "nbformat": 4,
 "nbformat_minor": 0
}
